{
 "cells": [
  {
   "cell_type": "code",
   "execution_count": null,
   "metadata": {},
   "outputs": [],
   "source": [
    "!pip install -q transformers datasets evaluate huggingface_hub sentencepiece"
   ]
  },
  {
   "cell_type": "code",
   "execution_count": null,
   "metadata": {},
   "outputs": [],
   "source": [
    "import os\n",
    "import evaluate\n",
    "import numpy as np\n",
    "from datasets import load_dataset, Dataset\n",
    "from transformers import (MBartForConditionalGeneration, \n",
    "                          MBartTokenizer, \n",
    "                          TrainingArguments, \n",
    "                          Trainer)\n",
    "from huggingface_hub import notebook_login"
   ]
  },
  {
   "cell_type": "code",
   "execution_count": null,
   "metadata": {},
   "outputs": [],
   "source": [
    "notebook_login()"
   ]
  },
  {
   "cell_type": "code",
   "execution_count": null,
   "metadata": {},
   "outputs": [],
   "source": [
    "# 1. Load the dataset\n",
    "dataset = load_dataset(\"SKNahin/bengali-transliteration-data\")\n",
    "\n",
    "# The dataset might have only a \"train\" split. Let's split it into train and validation.\n",
    "# If the dataset already has a train-validation split, adjust accordingly.\n",
    "raw_train_dataset = dataset[\"train\"]\n",
    "split_dataset = raw_train_dataset.train_test_split(\n",
    "    test_size=0.2,   # 80/20 split\n",
    "    seed=42\n",
    ")\n",
    "\n",
    "train_dataset = split_dataset[\"train\"]\n",
    "val_dataset   = split_dataset[\"test\"]\n",
    "\n",
    "print(\"Number of training samples:\", len(train_dataset))\n",
    "print(\"Number of validation samples:\", len(val_dataset))\n",
    "\n",
    "# Explore a sample (optional)\n",
    "print(\"\\nSample data:\", train_dataset[0])"
   ]
  },
  {
   "cell_type": "markdown",
   "metadata": {},
   "source": [
    "2. Data Preprocessing"
   ]
  },
  {
   "cell_type": "code",
   "execution_count": null,
   "metadata": {},
   "outputs": [],
   "source": [
    "# from transformers import MBart50Tokenizer\n",
    "# from transformers import AutoModelForSeq2SeqLM, AutoTokenizer\n",
    "from transformers import MT5ForConditionalGeneration, MT5Tokenizer\n",
    "\n",
    "# model_name = \"facebook/mbart-large-50\"\n",
    "model_name = \"google/mt5-small\"\n",
    "tokenizer = MT5Tokenizer.from_pretrained(model_name)\n",
    "\n",
    "# tokenizer = MBart50Tokenizer.from_pretrained(model_name)\n",
    "# print(tokenizer.lang_code_to_id.keys())\n",
    "tokenizer.src_lang = \"bn_IN\"\n",
    "tokenizer.tgt_lang = \"bn_IN\""
   ]
  },
  {
   "cell_type": "code",
   "execution_count": null,
   "metadata": {},
   "outputs": [],
   "source": [
    "max_length = 64\n",
    "\n",
    "def preprocess_function(examples):\n",
    "    source_texts = examples[\"rm\"]\n",
    "    target_texts = examples[\"bn\"]\n",
    "    prefix = \"translate Banglish to Bengali: \"\n",
    "\n",
    "    model_inputs = tokenizer(\n",
    "        [prefix + text for text in source_texts], \n",
    "        max_length=max_length, \n",
    "        truncation=True, \n",
    "        padding=\"max_length\"  # or \"longest\"\n",
    "    )\n",
    "    \n",
    "    # Tokenize the target (Bangla) as labels\n",
    "    with tokenizer.as_target_tokenizer():\n",
    "        labels = tokenizer(\n",
    "            target_texts, \n",
    "            max_length=max_length, \n",
    "            truncation=True, \n",
    "            padding=\"max_length\"\n",
    "        )\n",
    "    model_inputs[\"labels\"] = labels[\"input_ids\"]\n",
    "    \n",
    "    return model_inputs\n",
    "\n",
    "# Apply the preprocessing\n",
    "train_dataset = train_dataset.map(\n",
    "    preprocess_function, \n",
    "    batched=True, \n",
    "    remove_columns=[\"rm\", \"bn\"]\n",
    ")\n",
    "val_dataset = val_dataset.map(\n",
    "    preprocess_function, \n",
    "    batched=True, \n",
    "    remove_columns=[\"rm\", \"bn\"]\n",
    ")\n",
    "\n",
    "print(\"\\nTokenized train sample:\\n\", train_dataset[0])\n"
   ]
  },
  {
   "cell_type": "markdown",
   "metadata": {},
   "source": [
    "3. Model Load"
   ]
  },
  {
   "cell_type": "code",
   "execution_count": null,
   "metadata": {},
   "outputs": [],
   "source": [
    "\n",
    "# model = MBartForConditionalGeneration.from_pretrained(model_name)\n",
    "model = MT5ForConditionalGeneration.from_pretrained(model_name)"
   ]
  },
  {
   "cell_type": "markdown",
   "metadata": {},
   "source": [
    "4. Training Setup"
   ]
  },
  {
   "cell_type": "code",
   "execution_count": null,
   "metadata": {},
   "outputs": [],
   "source": [
    "import torch\n",
    "\n",
    "bleu = evaluate.load(\"bleu\")\n",
    "\n",
    "def compute_metrics(eval_preds):\n",
    "    preds, labels = eval_preds\n",
    "    decoded_preds = tokenizer.batch_decode(preds, skip_special_tokens=True, clean_up_tokenization_spaces=True)\n",
    "    decoded_labels = tokenizer.batch_decode(labels, skip_special_tokens=True, clean_up_tokenization_spaces=True)\n",
    "    \n",
    "    references = [[label] for label in decoded_labels]\n",
    "    results = bleu.compute(predictions=decoded_preds, references=references)\n",
    "    return {\"bleu\": results[\"bleu\"]}\n",
    "\n",
    "hf_username = \"torr20\"   \n",
    "repo_name   = \"another-avro\" \n",
    "hub_model_id = f\"{hf_username}/{repo_name}\"\n",
    "\n",
    "training_args = TrainingArguments(\n",
    "    output_dir=\"banglish2bangla-mbart\",\n",
    "    eval_strategy=\"epoch\",\n",
    "    learning_rate=5e-5,\n",
    "    per_device_train_batch_size=4,\n",
    "    per_device_eval_batch_size=4,\n",
    "    num_train_epochs=3,            \n",
    "    weight_decay=0.01,\n",
    "    save_total_limit=2,\n",
    "    hub_model_id=hub_model_id,     \n",
    "    logging_steps=100,\n",
    "    report_to=\"none\",                 \n",
    "    fp16=True if torch.cuda.is_available() else False \n",
    ")\n",
    "\n",
    "trainer = Trainer(\n",
    "    model=model,\n",
    "    args=training_args,\n",
    "    train_dataset=train_dataset,\n",
    "    eval_dataset=val_dataset,\n",
    "    tokenizer=tokenizer,\n",
    "    compute_metrics=compute_metrics\n",
    ")\n"
   ]
  },
  {
   "cell_type": "code",
   "execution_count": null,
   "metadata": {},
   "outputs": [],
   "source": [
    "trainer.train()"
   ]
  },
  {
   "cell_type": "code",
   "execution_count": null,
   "metadata": {},
   "outputs": [],
   "source": [
    "trainer.push_to_hub()"
   ]
  }
 ],
 "metadata": {
  "kernelspec": {
   "display_name": "Python 3",
   "language": "python",
   "name": "python3"
  },
  "language_info": {
   "name": "python",
   "version": "3.12.7"
  }
 },
 "nbformat": 4,
 "nbformat_minor": 2
}
